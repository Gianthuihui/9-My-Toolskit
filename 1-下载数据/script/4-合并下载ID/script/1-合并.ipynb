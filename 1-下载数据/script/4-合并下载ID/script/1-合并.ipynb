{
 "cells": [
  {
   "cell_type": "code",
   "execution_count": 2,
   "id": "eacd5fc0",
   "metadata": {},
   "outputs": [],
   "source": [
    "import os\n",
    "import pandas as pd"
   ]
  },
  {
   "cell_type": "code",
   "execution_count": 3,
   "id": "fc9028ea",
   "metadata": {},
   "outputs": [],
   "source": [
    "BASE_DIR = '/mnt/f/OneDrive/文档（共享）/4_古代DNA/'"
   ]
  },
  {
   "cell_type": "code",
   "execution_count": 4,
   "id": "e890df5b",
   "metadata": {},
   "outputs": [],
   "source": [
    "# 获取`/mnt/f/OneDrive/文档（共享）/4_古代DNA`文件夹下的所有的文件夹内的所有的命名为`aDNA.txt`文件，将其合并为一个DataFrame\n",
    "def merge_adna_files(root_dir):\n",
    "    adna_files = []\n",
    "    for root, dirs, files in os.walk(root_dir):\n",
    "        for file in files:\n",
    "            if file == 'aDNA.txt':\n",
    "                adna_files.append(os.path.join(root, file))\n",
    "    \n",
    "    # 合并所有的文件\n",
    "    df_list = []\n",
    "    for file in adna_files:\n",
    "        df = pd.read_csv(file, sep='\\t', header=None)\n",
    "        df_list.append(df)\n",
    "    \n",
    "    merged_df = pd.concat(df_list, ignore_index=True)\n",
    "    return merged_df"
   ]
  },
  {
   "cell_type": "code",
   "execution_count": 5,
   "id": "1ba04e36",
   "metadata": {},
   "outputs": [
    {
     "name": "stdout",
     "output_type": "stream",
     "text": [
      "检测到ID中的前缀如下所示: ['SRR' 'SAMEA']\n",
      "一般来说:`SRR`前缀→NCBI\n",
      "\t`SAMEA`前缀→ENA\n",
      "如果出现其他前缀，请检查数据源是否正确。\n"
     ]
    }
   ],
   "source": [
    "merged_df = merge_adna_files(BASE_DIR)\n",
    "# 列名命名为`ID`\n",
    "merged_df.columns = ['ID']\n",
    "merged_df\n",
    "# 获取`ID`列的前缀(即数字之前的字母部分)\n",
    "merged_df['Prefix'] = merged_df['ID'].str.extract(r'([a-zA-Z]+)')[0]\n",
    "# 检查前缀有多少种独特的类型\n",
    "unique_prefixes = merged_df['Prefix'].unique()\n",
    "print(f\"检测到ID中的前缀如下所示: {unique_prefixes}\")\n",
    "print(f\"一般来说:`SRR`前缀→NCBI\")\n",
    "print(f\"\\t`SAMEA`前缀→ENA\")\n",
    "print(f\"如果出现其他前缀，请检查数据源是否正确。\")"
   ]
  },
  {
   "cell_type": "code",
   "execution_count": 7,
   "id": "bf0e071f",
   "metadata": {},
   "outputs": [
    {
     "data": {
      "text/html": [
       "<div>\n",
       "<style scoped>\n",
       "    .dataframe tbody tr th:only-of-type {\n",
       "        vertical-align: middle;\n",
       "    }\n",
       "\n",
       "    .dataframe tbody tr th {\n",
       "        vertical-align: top;\n",
       "    }\n",
       "\n",
       "    .dataframe thead th {\n",
       "        text-align: right;\n",
       "    }\n",
       "</style>\n",
       "<table border=\"1\" class=\"dataframe\">\n",
       "  <thead>\n",
       "    <tr style=\"text-align: right;\">\n",
       "      <th></th>\n",
       "      <th>ID</th>\n",
       "      <th>Prefix</th>\n",
       "    </tr>\n",
       "  </thead>\n",
       "  <tbody>\n",
       "    <tr>\n",
       "      <th>0</th>\n",
       "      <td>SRR17043543</td>\n",
       "      <td>SRR</td>\n",
       "    </tr>\n",
       "    <tr>\n",
       "      <th>1</th>\n",
       "      <td>SRR17043542</td>\n",
       "      <td>SRR</td>\n",
       "    </tr>\n",
       "    <tr>\n",
       "      <th>2</th>\n",
       "      <td>SRR17043541</td>\n",
       "      <td>SRR</td>\n",
       "    </tr>\n",
       "    <tr>\n",
       "      <th>3</th>\n",
       "      <td>SRR17043540</td>\n",
       "      <td>SRR</td>\n",
       "    </tr>\n",
       "    <tr>\n",
       "      <th>4</th>\n",
       "      <td>SRR17043539</td>\n",
       "      <td>SRR</td>\n",
       "    </tr>\n",
       "    <tr>\n",
       "      <th>...</th>\n",
       "      <td>...</td>\n",
       "      <td>...</td>\n",
       "    </tr>\n",
       "    <tr>\n",
       "      <th>913</th>\n",
       "      <td>SAMEA7050474</td>\n",
       "      <td>SAMEA</td>\n",
       "    </tr>\n",
       "    <tr>\n",
       "      <th>914</th>\n",
       "      <td>SAMEA7050463</td>\n",
       "      <td>SAMEA</td>\n",
       "    </tr>\n",
       "    <tr>\n",
       "      <th>915</th>\n",
       "      <td>SAMEA7050467</td>\n",
       "      <td>SAMEA</td>\n",
       "    </tr>\n",
       "    <tr>\n",
       "      <th>916</th>\n",
       "      <td>SAMEA7050469</td>\n",
       "      <td>SAMEA</td>\n",
       "    </tr>\n",
       "    <tr>\n",
       "      <th>917</th>\n",
       "      <td>SAMEA7050470</td>\n",
       "      <td>SAMEA</td>\n",
       "    </tr>\n",
       "  </tbody>\n",
       "</table>\n",
       "<p>339 rows × 2 columns</p>\n",
       "</div>"
      ],
      "text/plain": [
       "               ID Prefix\n",
       "0     SRR17043543    SRR\n",
       "1     SRR17043542    SRR\n",
       "2     SRR17043541    SRR\n",
       "3     SRR17043540    SRR\n",
       "4     SRR17043539    SRR\n",
       "..            ...    ...\n",
       "913  SAMEA7050474  SAMEA\n",
       "914  SAMEA7050463  SAMEA\n",
       "915  SAMEA7050467  SAMEA\n",
       "916  SAMEA7050469  SAMEA\n",
       "917  SAMEA7050470  SAMEA\n",
       "\n",
       "[339 rows x 2 columns]"
      ]
     },
     "execution_count": 7,
     "metadata": {},
     "output_type": "execute_result"
    }
   ],
   "source": [
    "merged_df.drop_duplicates(subset='ID')"
   ]
  },
  {
   "cell_type": "code",
   "execution_count": 21,
   "id": "9316aad6",
   "metadata": {},
   "outputs": [
    {
     "name": "stdout",
     "output_type": "stream",
     "text": [
      "已将前缀为SRR的ID保存到/mnt/f/OneDrive/文档（共享）/4_古代DNA//SRR_aDNA.txt\n",
      "已将前缀为SAMEA的ID保存到/mnt/f/OneDrive/文档（共享）/4_古代DNA//SAMEA_aDNA.txt\n"
     ]
    }
   ],
   "source": [
    "# 将不同的前缀的df分别保存到`/mnt/f/OneDrive/文档（共享）/4_古代DNA/`的不同的前缀的txt文件中\n",
    "for prefix in unique_prefixes:\n",
    "    prefix_df = merged_df[merged_df['Prefix'] == prefix]\n",
    "    output_file = f'{BASE_DIR}/{prefix}_aDNA.txt'\n",
    "    prefix_df[['ID']].to_csv(output_file, sep='\\t', index=False, header=False)\n",
    "    print(f\"已将前缀为{prefix}的ID保存到{output_file}\")"
   ]
  }
 ],
 "metadata": {
  "kernelspec": {
   "display_name": "pyg",
   "language": "python",
   "name": "python3"
  },
  "language_info": {
   "codemirror_mode": {
    "name": "ipython",
    "version": 3
   },
   "file_extension": ".py",
   "mimetype": "text/x-python",
   "name": "python",
   "nbconvert_exporter": "python",
   "pygments_lexer": "ipython3",
   "version": "3.10.14"
  }
 },
 "nbformat": 4,
 "nbformat_minor": 5
}
