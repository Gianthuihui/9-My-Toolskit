{
 "cells": [
  {
   "cell_type": "code",
   "execution_count": 17,
   "id": "eacd5fc0",
   "metadata": {},
   "outputs": [],
   "source": [
    "import os\n",
    "import pandas as pd"
   ]
  },
  {
   "cell_type": "code",
   "execution_count": 18,
   "id": "fc9028ea",
   "metadata": {},
   "outputs": [],
   "source": [
    "BASE_DIR = '/mnt/f/OneDrive/文档（共享）/4_古代DNA/'"
   ]
  },
  {
   "cell_type": "code",
   "execution_count": 19,
   "id": "e890df5b",
   "metadata": {},
   "outputs": [],
   "source": [
    "# 获取`/mnt/f/OneDrive/文档（共享）/4_古代DNA`文件夹下的所有的文件夹内的所有的命名为`aDNA.txt`文件，将其合并为一个DataFrame\n",
    "def merge_adna_files(root_dir):\n",
    "    adna_files = []\n",
    "    for root, dirs, files in os.walk(root_dir):\n",
    "        for file in files:\n",
    "            if file == 'aDNA.txt':\n",
    "                adna_files.append(os.path.join(root, file))\n",
    "    \n",
    "    # 合并所有的文件\n",
    "    df_list = []\n",
    "    for file in adna_files:\n",
    "        df = pd.read_csv(file, sep='\\t', header=None)\n",
    "        df_list.append(df)\n",
    "    \n",
    "    merged_df = pd.concat(df_list, ignore_index=True)\n",
    "    return merged_df"
   ]
  },
  {
   "cell_type": "code",
   "execution_count": 20,
   "id": "1ba04e36",
   "metadata": {},
   "outputs": [
    {
     "name": "stdout",
     "output_type": "stream",
     "text": [
      "检测到ID中的前缀如下所示: ['SRR' 'SAMEA']\n",
      "一般来说:`SRR`前缀→NCBI\n",
      "\t`SAMEA`前缀→ENA\n",
      "如果出现其他前缀，请检查数据源是否正确。\n"
     ]
    }
   ],
   "source": [
    "merged_df = merge_adna_files(BASE_DIR)\n",
    "# 列名命名为`ID`\n",
    "merged_df.columns = ['ID']\n",
    "merged_df\n",
    "# 获取`ID`列的前缀(即数字之前的字母部分)\n",
    "merged_df['Prefix'] = merged_df['ID'].str.extract(r'([a-zA-Z]+)')[0]\n",
    "# 检查前缀有多少种独特的类型\n",
    "unique_prefixes = merged_df['Prefix'].unique()\n",
    "print(f\"检测到ID中的前缀如下所示: {unique_prefixes}\")\n",
    "print(f\"一般来说:`SRR`前缀→NCBI\")\n",
    "print(f\"\\t`SAMEA`前缀→ENA\")\n",
    "print(f\"如果出现其他前缀，请检查数据源是否正确。\")"
   ]
  },
  {
   "cell_type": "code",
   "execution_count": 21,
   "id": "9316aad6",
   "metadata": {},
   "outputs": [
    {
     "name": "stdout",
     "output_type": "stream",
     "text": [
      "已将前缀为SRR的ID保存到/mnt/f/OneDrive/文档（共享）/4_古代DNA//SRR_aDNA.txt\n",
      "已将前缀为SAMEA的ID保存到/mnt/f/OneDrive/文档（共享）/4_古代DNA//SAMEA_aDNA.txt\n"
     ]
    }
   ],
   "source": [
    "# 将不同的前缀的df分别保存到`/mnt/f/OneDrive/文档（共享）/4_古代DNA/`的不同的前缀的txt文件中\n",
    "for prefix in unique_prefixes:\n",
    "    prefix_df = merged_df[merged_df['Prefix'] == prefix]\n",
    "    output_file = f'{BASE_DIR}/{prefix}_aDNA.txt'\n",
    "    prefix_df[['ID']].to_csv(output_file, sep='\\t', index=False, header=False)\n",
    "    print(f\"已将前缀为{prefix}的ID保存到{output_file}\")"
   ]
  }
 ],
 "metadata": {
  "kernelspec": {
   "display_name": "pyg",
   "language": "python",
   "name": "python3"
  },
  "language_info": {
   "codemirror_mode": {
    "name": "ipython",
    "version": 3
   },
   "file_extension": ".py",
   "mimetype": "text/x-python",
   "name": "python",
   "nbconvert_exporter": "python",
   "pygments_lexer": "ipython3",
   "version": "3.10.14"
  }
 },
 "nbformat": 4,
 "nbformat_minor": 5
}
